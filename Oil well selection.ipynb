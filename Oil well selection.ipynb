{
 "cells": [
  {
   "cell_type": "markdown",
   "metadata": {},
   "source": [
    "# Выбор локации для скважины"
   ]
  },
  {
   "cell_type": "markdown",
   "metadata": {},
   "source": [
    "Допустим, вы работаете в добывающей компании «ГлавРосГосНефть». Нужно решить, где бурить новую скважину.\n",
    "\n",
    "Вам предоставлены пробы нефти в трёх регионах: в каждом 10 000 месторождений, где измерили качество нефти и объём её запасов. Постройте модель машинного обучения, которая поможет определить регион, где добыча принесёт наибольшую прибыль. Проанализируйте возможную прибыль и риски техникой *Bootstrap.*\n",
    "\n",
    "Шаги для выбора локации:\n",
    "\n",
    "- В избранном регионе ищут месторождения, для каждого определяют значения признаков;\n",
    "- Строят модель и оценивают объём запасов;\n",
    "- Выбирают месторождения с самым высокими оценками значений. Количество месторождений зависит от бюджета компании и стоимости разработки одной скважины;\n",
    "- Прибыль равна суммарной прибыли отобранных месторождений."
   ]
  },
  {
   "cell_type": "markdown",
   "metadata": {},
   "source": [
    "# Инструкция по выполнению проекта"
   ]
  },
  {
   "cell_type": "markdown",
   "metadata": {},
   "source": [
    "Загрузите и подготовьте данные. Поясните порядок действий.\n",
    "\n",
    "Обучите и проверьте модель для каждого региона:\n",
    "- 2.1. Разбейте данные на обучающую и валидационную выборки в соотношении 75:25.\n",
    "- 2.2. Обучите модель и сделайте предсказания на валидационной выборке.\n",
    "- 2.3. Сохраните предсказания и правильные ответы на валидационной выборке.\n",
    "- 2.4. Напечатайте на экране средний запас предсказанного сырья и RMSE модели.\n",
    "- 2.5. Проанализируйте результаты.\n",
    "\n",
    "Подготовьтесь к расчёту прибыли:\n",
    "- 3.1. Все ключевые значения для расчётов сохраните в отдельных переменных.\n",
    "- 3.2. Рассчитайте достаточный объём сырья для безубыточной разработки новой скважины. Сравните полученный объём сырья со средним запасом в каждом регионе.\n",
    "- 3.3. Напишите выводы по этапу подготовки расчёта прибыли.\n",
    "\n",
    "Напишите функцию для расчёта прибыли по выбранным скважинам и предсказаниям модели:\n",
    "- 4.1. Выберите скважины с максимальными значениями предсказаний.\n",
    "- 4.2. Просуммируйте целевое значение объёма сырья, соответствующее этим предсказаниям.\n",
    "- 4.3. Рассчитайте прибыль для полученного объёма сырья.\n",
    "\n",
    "Посчитайте риски и прибыль для каждого региона:\n",
    "- 5.1. Примените технику Bootstrap с 1000 выборок, чтобы найти распределение прибыли.\n",
    "- 5.2. Найдите среднюю прибыль, 95%-й доверительный интервал и риск убытков. Убыток — это отрицательная прибыль.\n",
    "- 5.3. Напишите выводы: предложите регион для разработки скважин и обоснуйте выбор."
   ]
  },
  {
   "cell_type": "markdown",
   "metadata": {},
   "source": [
    "## Загрузка и подготовка данных"
   ]
  },
  {
   "cell_type": "code",
   "execution_count": 1,
   "metadata": {},
   "outputs": [],
   "source": [
    "import matplotlib.pyplot as plt\n",
    "import numpy as np\n",
    "import pandas as pd\n",
    "from sklearn.model_selection import train_test_split\n",
    "from sklearn.linear_model import LinearRegression\n",
    "from sklearn.metrics import mean_squared_error\n",
    "from sklearn.preprocessing import StandardScaler\n",
    "from sklearn.utils import shuffle\n",
    "import warnings\n",
    "warnings.filterwarnings('ignore')"
   ]
  },
  {
   "cell_type": "code",
   "execution_count": 2,
   "metadata": {},
   "outputs": [],
   "source": [
    "df1 = pd.read_csv('/datasets/geo_data_0.csv')\n",
    "df2 = pd.read_csv('/datasets/geo_data_1.csv')\n",
    "df3 = pd.read_csv('/datasets/geo_data_2.csv')"
   ]
  },
  {
   "cell_type": "code",
   "execution_count": 3,
   "metadata": {},
   "outputs": [
    {
     "name": "stdout",
     "output_type": "stream",
     "text": [
      "<class 'pandas.core.frame.DataFrame'>\n",
      "RangeIndex: 100000 entries, 0 to 99999\n",
      "Data columns (total 5 columns):\n",
      " #   Column   Non-Null Count   Dtype  \n",
      "---  ------   --------------   -----  \n",
      " 0   id       100000 non-null  object \n",
      " 1   f0       100000 non-null  float64\n",
      " 2   f1       100000 non-null  float64\n",
      " 3   f2       100000 non-null  float64\n",
      " 4   product  100000 non-null  float64\n",
      "dtypes: float64(4), object(1)\n",
      "memory usage: 3.8+ MB\n"
     ]
    }
   ],
   "source": [
    "df1.info()"
   ]
  },
  {
   "cell_type": "code",
   "execution_count": 4,
   "metadata": {},
   "outputs": [
    {
     "name": "stdout",
     "output_type": "stream",
     "text": [
      "<class 'pandas.core.frame.DataFrame'>\n",
      "RangeIndex: 100000 entries, 0 to 99999\n",
      "Data columns (total 5 columns):\n",
      " #   Column   Non-Null Count   Dtype  \n",
      "---  ------   --------------   -----  \n",
      " 0   id       100000 non-null  object \n",
      " 1   f0       100000 non-null  float64\n",
      " 2   f1       100000 non-null  float64\n",
      " 3   f2       100000 non-null  float64\n",
      " 4   product  100000 non-null  float64\n",
      "dtypes: float64(4), object(1)\n",
      "memory usage: 3.8+ MB\n"
     ]
    }
   ],
   "source": [
    "df2.info()"
   ]
  },
  {
   "cell_type": "code",
   "execution_count": 5,
   "metadata": {},
   "outputs": [
    {
     "name": "stdout",
     "output_type": "stream",
     "text": [
      "<class 'pandas.core.frame.DataFrame'>\n",
      "RangeIndex: 100000 entries, 0 to 99999\n",
      "Data columns (total 5 columns):\n",
      " #   Column   Non-Null Count   Dtype  \n",
      "---  ------   --------------   -----  \n",
      " 0   id       100000 non-null  object \n",
      " 1   f0       100000 non-null  float64\n",
      " 2   f1       100000 non-null  float64\n",
      " 3   f2       100000 non-null  float64\n",
      " 4   product  100000 non-null  float64\n",
      "dtypes: float64(4), object(1)\n",
      "memory usage: 3.8+ MB\n"
     ]
    }
   ],
   "source": [
    "df3.info()"
   ]
  },
  {
   "cell_type": "markdown",
   "metadata": {},
   "source": [
    "### Проверим количество дубликатов"
   ]
  },
  {
   "cell_type": "code",
   "execution_count": 6,
   "metadata": {},
   "outputs": [
    {
     "data": {
      "text/plain": [
       "0"
      ]
     },
     "execution_count": 6,
     "metadata": {},
     "output_type": "execute_result"
    }
   ],
   "source": [
    "df1.duplicated().sum()"
   ]
  },
  {
   "cell_type": "code",
   "execution_count": 7,
   "metadata": {},
   "outputs": [
    {
     "data": {
      "text/plain": [
       "0"
      ]
     },
     "execution_count": 7,
     "metadata": {},
     "output_type": "execute_result"
    }
   ],
   "source": [
    "df2.duplicated().sum()"
   ]
  },
  {
   "cell_type": "code",
   "execution_count": 8,
   "metadata": {},
   "outputs": [
    {
     "data": {
      "text/plain": [
       "0"
      ]
     },
     "execution_count": 8,
     "metadata": {},
     "output_type": "execute_result"
    }
   ],
   "source": [
    "df3.duplicated().sum()"
   ]
  },
  {
   "cell_type": "markdown",
   "metadata": {},
   "source": [
    "### Посмотрим информация по значениям"
   ]
  },
  {
   "cell_type": "code",
   "execution_count": 9,
   "metadata": {},
   "outputs": [
    {
     "data": {
      "text/html": [
       "<div>\n",
       "<style scoped>\n",
       "    .dataframe tbody tr th:only-of-type {\n",
       "        vertical-align: middle;\n",
       "    }\n",
       "\n",
       "    .dataframe tbody tr th {\n",
       "        vertical-align: top;\n",
       "    }\n",
       "\n",
       "    .dataframe thead th {\n",
       "        text-align: right;\n",
       "    }\n",
       "</style>\n",
       "<table border=\"1\" class=\"dataframe\">\n",
       "  <thead>\n",
       "    <tr style=\"text-align: right;\">\n",
       "      <th></th>\n",
       "      <th>f0</th>\n",
       "      <th>f1</th>\n",
       "      <th>f2</th>\n",
       "      <th>product</th>\n",
       "    </tr>\n",
       "  </thead>\n",
       "  <tbody>\n",
       "    <tr>\n",
       "      <th>count</th>\n",
       "      <td>100000.000000</td>\n",
       "      <td>100000.000000</td>\n",
       "      <td>100000.000000</td>\n",
       "      <td>100000.000000</td>\n",
       "    </tr>\n",
       "    <tr>\n",
       "      <th>mean</th>\n",
       "      <td>0.500419</td>\n",
       "      <td>0.250143</td>\n",
       "      <td>2.502647</td>\n",
       "      <td>92.500000</td>\n",
       "    </tr>\n",
       "    <tr>\n",
       "      <th>std</th>\n",
       "      <td>0.871832</td>\n",
       "      <td>0.504433</td>\n",
       "      <td>3.248248</td>\n",
       "      <td>44.288691</td>\n",
       "    </tr>\n",
       "    <tr>\n",
       "      <th>min</th>\n",
       "      <td>-1.408605</td>\n",
       "      <td>-0.848218</td>\n",
       "      <td>-12.088328</td>\n",
       "      <td>0.000000</td>\n",
       "    </tr>\n",
       "    <tr>\n",
       "      <th>25%</th>\n",
       "      <td>-0.072580</td>\n",
       "      <td>-0.200881</td>\n",
       "      <td>0.287748</td>\n",
       "      <td>56.497507</td>\n",
       "    </tr>\n",
       "    <tr>\n",
       "      <th>50%</th>\n",
       "      <td>0.502360</td>\n",
       "      <td>0.250252</td>\n",
       "      <td>2.515969</td>\n",
       "      <td>91.849972</td>\n",
       "    </tr>\n",
       "    <tr>\n",
       "      <th>75%</th>\n",
       "      <td>1.073581</td>\n",
       "      <td>0.700646</td>\n",
       "      <td>4.715088</td>\n",
       "      <td>128.564089</td>\n",
       "    </tr>\n",
       "    <tr>\n",
       "      <th>max</th>\n",
       "      <td>2.362331</td>\n",
       "      <td>1.343769</td>\n",
       "      <td>16.003790</td>\n",
       "      <td>185.364347</td>\n",
       "    </tr>\n",
       "  </tbody>\n",
       "</table>\n",
       "</div>"
      ],
      "text/plain": [
       "                  f0             f1             f2        product\n",
       "count  100000.000000  100000.000000  100000.000000  100000.000000\n",
       "mean        0.500419       0.250143       2.502647      92.500000\n",
       "std         0.871832       0.504433       3.248248      44.288691\n",
       "min        -1.408605      -0.848218     -12.088328       0.000000\n",
       "25%        -0.072580      -0.200881       0.287748      56.497507\n",
       "50%         0.502360       0.250252       2.515969      91.849972\n",
       "75%         1.073581       0.700646       4.715088     128.564089\n",
       "max         2.362331       1.343769      16.003790     185.364347"
      ]
     },
     "execution_count": 9,
     "metadata": {},
     "output_type": "execute_result"
    }
   ],
   "source": [
    "df1.describe()"
   ]
  },
  {
   "cell_type": "code",
   "execution_count": 10,
   "metadata": {},
   "outputs": [
    {
     "data": {
      "text/html": [
       "<div>\n",
       "<style scoped>\n",
       "    .dataframe tbody tr th:only-of-type {\n",
       "        vertical-align: middle;\n",
       "    }\n",
       "\n",
       "    .dataframe tbody tr th {\n",
       "        vertical-align: top;\n",
       "    }\n",
       "\n",
       "    .dataframe thead th {\n",
       "        text-align: right;\n",
       "    }\n",
       "</style>\n",
       "<table border=\"1\" class=\"dataframe\">\n",
       "  <thead>\n",
       "    <tr style=\"text-align: right;\">\n",
       "      <th></th>\n",
       "      <th>f0</th>\n",
       "      <th>f1</th>\n",
       "      <th>f2</th>\n",
       "      <th>product</th>\n",
       "    </tr>\n",
       "  </thead>\n",
       "  <tbody>\n",
       "    <tr>\n",
       "      <th>count</th>\n",
       "      <td>100000.000000</td>\n",
       "      <td>100000.000000</td>\n",
       "      <td>100000.000000</td>\n",
       "      <td>100000.000000</td>\n",
       "    </tr>\n",
       "    <tr>\n",
       "      <th>mean</th>\n",
       "      <td>1.141296</td>\n",
       "      <td>-4.796579</td>\n",
       "      <td>2.494541</td>\n",
       "      <td>68.825000</td>\n",
       "    </tr>\n",
       "    <tr>\n",
       "      <th>std</th>\n",
       "      <td>8.965932</td>\n",
       "      <td>5.119872</td>\n",
       "      <td>1.703572</td>\n",
       "      <td>45.944423</td>\n",
       "    </tr>\n",
       "    <tr>\n",
       "      <th>min</th>\n",
       "      <td>-31.609576</td>\n",
       "      <td>-26.358598</td>\n",
       "      <td>-0.018144</td>\n",
       "      <td>0.000000</td>\n",
       "    </tr>\n",
       "    <tr>\n",
       "      <th>25%</th>\n",
       "      <td>-6.298551</td>\n",
       "      <td>-8.267985</td>\n",
       "      <td>1.000021</td>\n",
       "      <td>26.953261</td>\n",
       "    </tr>\n",
       "    <tr>\n",
       "      <th>50%</th>\n",
       "      <td>1.153055</td>\n",
       "      <td>-4.813172</td>\n",
       "      <td>2.011479</td>\n",
       "      <td>57.085625</td>\n",
       "    </tr>\n",
       "    <tr>\n",
       "      <th>75%</th>\n",
       "      <td>8.621015</td>\n",
       "      <td>-1.332816</td>\n",
       "      <td>3.999904</td>\n",
       "      <td>107.813044</td>\n",
       "    </tr>\n",
       "    <tr>\n",
       "      <th>max</th>\n",
       "      <td>29.421755</td>\n",
       "      <td>18.734063</td>\n",
       "      <td>5.019721</td>\n",
       "      <td>137.945408</td>\n",
       "    </tr>\n",
       "  </tbody>\n",
       "</table>\n",
       "</div>"
      ],
      "text/plain": [
       "                  f0             f1             f2        product\n",
       "count  100000.000000  100000.000000  100000.000000  100000.000000\n",
       "mean        1.141296      -4.796579       2.494541      68.825000\n",
       "std         8.965932       5.119872       1.703572      45.944423\n",
       "min       -31.609576     -26.358598      -0.018144       0.000000\n",
       "25%        -6.298551      -8.267985       1.000021      26.953261\n",
       "50%         1.153055      -4.813172       2.011479      57.085625\n",
       "75%         8.621015      -1.332816       3.999904     107.813044\n",
       "max        29.421755      18.734063       5.019721     137.945408"
      ]
     },
     "execution_count": 10,
     "metadata": {},
     "output_type": "execute_result"
    }
   ],
   "source": [
    "df2.describe()"
   ]
  },
  {
   "cell_type": "code",
   "execution_count": 11,
   "metadata": {},
   "outputs": [
    {
     "data": {
      "text/html": [
       "<div>\n",
       "<style scoped>\n",
       "    .dataframe tbody tr th:only-of-type {\n",
       "        vertical-align: middle;\n",
       "    }\n",
       "\n",
       "    .dataframe tbody tr th {\n",
       "        vertical-align: top;\n",
       "    }\n",
       "\n",
       "    .dataframe thead th {\n",
       "        text-align: right;\n",
       "    }\n",
       "</style>\n",
       "<table border=\"1\" class=\"dataframe\">\n",
       "  <thead>\n",
       "    <tr style=\"text-align: right;\">\n",
       "      <th></th>\n",
       "      <th>f0</th>\n",
       "      <th>f1</th>\n",
       "      <th>f2</th>\n",
       "      <th>product</th>\n",
       "    </tr>\n",
       "  </thead>\n",
       "  <tbody>\n",
       "    <tr>\n",
       "      <th>count</th>\n",
       "      <td>100000.000000</td>\n",
       "      <td>100000.000000</td>\n",
       "      <td>100000.000000</td>\n",
       "      <td>100000.000000</td>\n",
       "    </tr>\n",
       "    <tr>\n",
       "      <th>mean</th>\n",
       "      <td>0.002023</td>\n",
       "      <td>-0.002081</td>\n",
       "      <td>2.495128</td>\n",
       "      <td>95.000000</td>\n",
       "    </tr>\n",
       "    <tr>\n",
       "      <th>std</th>\n",
       "      <td>1.732045</td>\n",
       "      <td>1.730417</td>\n",
       "      <td>3.473445</td>\n",
       "      <td>44.749921</td>\n",
       "    </tr>\n",
       "    <tr>\n",
       "      <th>min</th>\n",
       "      <td>-8.760004</td>\n",
       "      <td>-7.084020</td>\n",
       "      <td>-11.970335</td>\n",
       "      <td>0.000000</td>\n",
       "    </tr>\n",
       "    <tr>\n",
       "      <th>25%</th>\n",
       "      <td>-1.162288</td>\n",
       "      <td>-1.174820</td>\n",
       "      <td>0.130359</td>\n",
       "      <td>59.450441</td>\n",
       "    </tr>\n",
       "    <tr>\n",
       "      <th>50%</th>\n",
       "      <td>0.009424</td>\n",
       "      <td>-0.009482</td>\n",
       "      <td>2.484236</td>\n",
       "      <td>94.925613</td>\n",
       "    </tr>\n",
       "    <tr>\n",
       "      <th>75%</th>\n",
       "      <td>1.158535</td>\n",
       "      <td>1.163678</td>\n",
       "      <td>4.858794</td>\n",
       "      <td>130.595027</td>\n",
       "    </tr>\n",
       "    <tr>\n",
       "      <th>max</th>\n",
       "      <td>7.238262</td>\n",
       "      <td>7.844801</td>\n",
       "      <td>16.739402</td>\n",
       "      <td>190.029838</td>\n",
       "    </tr>\n",
       "  </tbody>\n",
       "</table>\n",
       "</div>"
      ],
      "text/plain": [
       "                  f0             f1             f2        product\n",
       "count  100000.000000  100000.000000  100000.000000  100000.000000\n",
       "mean        0.002023      -0.002081       2.495128      95.000000\n",
       "std         1.732045       1.730417       3.473445      44.749921\n",
       "min        -8.760004      -7.084020     -11.970335       0.000000\n",
       "25%        -1.162288      -1.174820       0.130359      59.450441\n",
       "50%         0.009424      -0.009482       2.484236      94.925613\n",
       "75%         1.158535       1.163678       4.858794     130.595027\n",
       "max         7.238262       7.844801      16.739402     190.029838"
      ]
     },
     "execution_count": 11,
     "metadata": {},
     "output_type": "execute_result"
    }
   ],
   "source": [
    "df3.describe()"
   ]
  },
  {
   "cell_type": "markdown",
   "metadata": {},
   "source": [
    "### Работа с данными"
   ]
  },
  {
   "cell_type": "markdown",
   "metadata": {},
   "source": [
    "В данных отсутсвуют пропуски. Удалим из каждого датафрейма столбец id. Он не несет значимости для для модели."
   ]
  },
  {
   "cell_type": "code",
   "execution_count": 12,
   "metadata": {},
   "outputs": [],
   "source": [
    "df1 = df1.drop(['id'], axis=1)\n",
    "df2 = df2.drop(['id'], axis=1)\n",
    "df3 = df3.drop(['id'], axis=1)"
   ]
  },
  {
   "cell_type": "code",
   "execution_count": 13,
   "metadata": {},
   "outputs": [],
   "source": [
    "# Построим гистограммы по столбцу product.\n",
    "def hist(seria, bins, xlim_max, ylim_max):\n",
    "    plt.figure(figsize=[12,9])\n",
    "\n",
    "    plt.hist(seria, bins=bins)\n",
    "\n",
    "    plt.xlim([0,xlim_max])\n",
    "    plt.ylim([0,ylim_max])\n",
    "\n",
    "    plt.xlabel(\"Объем нефти на скважину, тыс. барелей\")\n",
    "    plt.ylabel(\"Количество скважин\")\n",
    "\n",
    "    plt.title(\"Гистограмма распределения по объему скважин\")\n",
    "    plt.show()"
   ]
  },
  {
   "cell_type": "code",
   "execution_count": 14,
   "metadata": {},
   "outputs": [
    {
     "data": {
      "image/png": "[encoded data removed]",
      "text/plain": [
       "<Figure size 864x648 with 1 Axes>"
      ]
     },
     "metadata": {
      "needs_background": "light"
     },
     "output_type": "display_data"
    }
   ],
   "source": [
    "hist(df1['product'], 200, 190, 1000)"
   ]
  },
  {
   "cell_type": "code",
   "execution_count": 15,
   "metadata": {},
   "outputs": [
    {
     "data": {
      "image/png": "[encoded data removed]",
      "text/plain": [
       "<Figure size 864x648 with 1 Axes>"
      ]
     },
     "metadata": {
      "needs_background": "light"
     },
     "output_type": "display_data"
    }
   ],
   "source": [
    "hist(df2['product'], 200, 190, 1000)"
   ]
  },
  {
   "cell_type": "code",
   "execution_count": 16,
   "metadata": {},
   "outputs": [
    {
     "data": {
      "image/png": "[encoded data removed]",
      "text/plain": [
       "<Figure size 864x648 with 1 Axes>"
      ]
     },
     "metadata": {
      "needs_background": "light"
     },
     "output_type": "display_data"
    }
   ],
   "source": [
    "hist(df3['product'], 200, 190, 1000)"
   ]
  },
  {
   "cell_type": "markdown",
   "metadata": {},
   "source": [
    "На графиках видно что в `df2` довольно много пропусков, необходимо выяснить сколько именно, напишем для этого функцию"
   ]
  },
  {
   "cell_type": "code",
   "execution_count": 17,
   "metadata": {},
   "outputs": [],
   "source": [
    "def check_zeros(df, target_name):\n",
    "    zeros = df[df[target_name] == 0][target_name].count()\n",
    "    percent = zeros / df.shape[0]\n",
    "    print('Количество нулевых значений -', zeros)\n",
    "    print('Процент нулевых значений -', percent)"
   ]
  },
  {
   "cell_type": "code",
   "execution_count": 18,
   "metadata": {},
   "outputs": [
    {
     "name": "stdout",
     "output_type": "stream",
     "text": [
      "Количество нулевых значений - 1\n",
      "Процент нулевых значений - 1e-05\n"
     ]
    }
   ],
   "source": [
    "check_zeros(df1, 'product')"
   ]
  },
  {
   "cell_type": "code",
   "execution_count": 19,
   "metadata": {},
   "outputs": [
    {
     "name": "stdout",
     "output_type": "stream",
     "text": [
      "Количество нулевых значений - 8235\n",
      "Процент нулевых значений - 0.08235\n"
     ]
    }
   ],
   "source": [
    "check_zeros(df2, 'product')"
   ]
  },
  {
   "cell_type": "code",
   "execution_count": 20,
   "metadata": {},
   "outputs": [
    {
     "name": "stdout",
     "output_type": "stream",
     "text": [
      "Количество нулевых значений - 1\n",
      "Процент нулевых значений - 1e-05\n"
     ]
    }
   ],
   "source": [
    "check_zeros(df3, 'product')"
   ]
  },
  {
   "cell_type": "code",
   "execution_count": 21,
   "metadata": {},
   "outputs": [
    {
     "data": {
      "image/png": "[encoded data removed]",
      "text/plain": [
       "<Figure size 864x648 with 1 Axes>"
      ]
     },
     "metadata": {
      "needs_background": "light"
     },
     "output_type": "display_data"
    }
   ],
   "source": [
    "#Немного приблизим гистограмму по 2 датафрейму\n",
    "hist(df2['product'], 50, 150, 10000)"
   ]
  },
  {
   "cell_type": "markdown",
   "metadata": {},
   "source": [
    "**Вывод**\n",
    "Целевой признак:\n",
    "\n",
    " - product.\n",
    " \n",
    "Признаки модели:\n",
    "- f0\n",
    "- f1\n",
    "- f2\n",
    "\n",
    "**Данные готовы к обучению.**\n",
    "\n",
    "Во втором датафрейме около 8,2% месторождений не имело значения в столбце product. При сравнении с такими же значениями из первого и третьего датафрейма можно понять, что были утеряны данные или не они не были исследованы.\n",
    "\n",
    "По гистограммам можно понять, что у первого и третьего фрейма распределение скважин близкое к нормальному. Во втором датафрейме данные имеют странное распределение: от 0 до 5 баррелей с шагом по 15-20 равномерно распределены 100000 значений. Данные не подчиняются закону больших чисел и скорей всего были введены искуственно."
   ]
  },
  {
   "cell_type": "markdown",
   "metadata": {},
   "source": [
    "## Обучение и проверка модели"
   ]
  },
  {
   "cell_type": "markdown",
   "metadata": {},
   "source": [
    "Выполняем разбивку неподготовленного датафрейма, для начала df1"
   ]
  },
  {
   "cell_type": "code",
   "execution_count": 22,
   "metadata": {},
   "outputs": [],
   "source": [
    "#Функция для разбивки фрейма на выборки\n",
    "def test_split(df, target):\n",
    "    features = df.drop([target] , axis=1)\n",
    "    target = df[target]\n",
    "\n",
    "    features_train, features_valid, target_train, target_valid = train_test_split(\n",
    "    features, target, test_size=0.25, random_state=1515)\n",
    "    \n",
    "    return features_train, features_valid, target_train, target_valid"
   ]
  },
  {
   "cell_type": "code",
   "execution_count": 23,
   "metadata": {},
   "outputs": [
    {
     "data": {
      "text/html": [
       "<div>\n",
       "<style scoped>\n",
       "    .dataframe tbody tr th:only-of-type {\n",
       "        vertical-align: middle;\n",
       "    }\n",
       "\n",
       "    .dataframe tbody tr th {\n",
       "        vertical-align: top;\n",
       "    }\n",
       "\n",
       "    .dataframe thead th {\n",
       "        text-align: right;\n",
       "    }\n",
       "</style>\n",
       "<table border=\"1\" class=\"dataframe\">\n",
       "  <thead>\n",
       "    <tr style=\"text-align: right;\">\n",
       "      <th></th>\n",
       "      <th>f0</th>\n",
       "      <th>f1</th>\n",
       "      <th>f2</th>\n",
       "    </tr>\n",
       "  </thead>\n",
       "  <tbody>\n",
       "    <tr>\n",
       "      <th>1007</th>\n",
       "      <td>1.021117</td>\n",
       "      <td>0.041190</td>\n",
       "      <td>4.358261</td>\n",
       "    </tr>\n",
       "    <tr>\n",
       "      <th>61277</th>\n",
       "      <td>0.464478</td>\n",
       "      <td>0.986279</td>\n",
       "      <td>-1.566709</td>\n",
       "    </tr>\n",
       "    <tr>\n",
       "      <th>21764</th>\n",
       "      <td>0.325741</td>\n",
       "      <td>0.999537</td>\n",
       "      <td>2.957987</td>\n",
       "    </tr>\n",
       "    <tr>\n",
       "      <th>19778</th>\n",
       "      <td>1.083502</td>\n",
       "      <td>0.247936</td>\n",
       "      <td>2.420653</td>\n",
       "    </tr>\n",
       "    <tr>\n",
       "      <th>3155</th>\n",
       "      <td>0.150222</td>\n",
       "      <td>-0.019162</td>\n",
       "      <td>1.874492</td>\n",
       "    </tr>\n",
       "  </tbody>\n",
       "</table>\n",
       "</div>"
      ],
      "text/plain": [
       "             f0        f1        f2\n",
       "1007   1.021117  0.041190  4.358261\n",
       "61277  0.464478  0.986279 -1.566709\n",
       "21764  0.325741  0.999537  2.957987\n",
       "19778  1.083502  0.247936  2.420653\n",
       "3155   0.150222 -0.019162  1.874492"
      ]
     },
     "execution_count": 23,
     "metadata": {},
     "output_type": "execute_result"
    }
   ],
   "source": [
    "features_train_1, features_valid_1, target_train_1, target_valid_1 = test_split(df1, 'product')\n",
    "\n",
    "features_train_1.head()"
   ]
  },
  {
   "cell_type": "code",
   "execution_count": 24,
   "metadata": {},
   "outputs": [],
   "source": [
    "#Функция для разбивки фрейма на масщтабируемой выборки\n",
    "def test_split_scaled(df, numeric, target):\n",
    "    geo_data_s = df.copy()\n",
    "\n",
    "    features_s = geo_data_s.drop([target] , axis=1)\n",
    "    target_s = geo_data_s[target]\n",
    "\n",
    "    features_train_s, features_valid_s, target_train_s, target_valid_s = train_test_split(\n",
    "        features_s, target_s, test_size=0.25, random_state=1515)\n",
    "\n",
    "    scaler = StandardScaler()\n",
    "    scaler.fit(features_train_s[numeric])\n",
    "    features_train_s[numeric] = scaler.transform(features_train_s[numeric])\n",
    "    features_valid_s[numeric] = scaler.transform(features_valid_s[numeric])\n",
    "\n",
    "    return features_train_s, features_valid_s, target_train_s, target_valid_s"
   ]
  },
  {
   "cell_type": "code",
   "execution_count": 25,
   "metadata": {},
   "outputs": [
    {
     "name": "stdout",
     "output_type": "stream",
     "text": [
      "RMSE - 37.54514842848321\n"
     ]
    }
   ],
   "source": [
    "# Обучение модели на неизмененных данных и выведем среднеквадратичную ошибку\n",
    "model = LinearRegression()\n",
    "\n",
    "model.fit(features_train_1, target_train_1)\n",
    "predicted_target_1 = model.predict(features_valid_1)\n",
    "print('RMSE -', mean_squared_error(target_valid_1, predicted_target_1)**0.5)"
   ]
  },
  {
   "cell_type": "code",
   "execution_count": 26,
   "metadata": {},
   "outputs": [
    {
     "name": "stdout",
     "output_type": "stream",
     "text": [
      "RMSE - 37.54514842848321\n"
     ]
    }
   ],
   "source": [
    "# Обучение модели на маштабированных данных и выведем среднеквадратичную ошибку\n",
    "features_train_1s, features_valid_1s, target_train_1s, target_valid_1s = test_split_scaled(\n",
    "                                                                        df1, ['f0', 'f1', 'f2'], 'product')\n",
    "model.fit(features_train_1s, target_train_1s)\n",
    "predicted_target_1s = model.predict(features_valid_1s)\n",
    "print('RMSE -', mean_squared_error(target_valid_1s, predicted_target_1s)**0.5)"
   ]
  },
  {
   "cell_type": "code",
   "execution_count": 27,
   "metadata": {},
   "outputs": [
    {
     "name": "stdout",
     "output_type": "stream",
     "text": [
      "RMSE - 0.8879923030757141\n",
      "RMSE - 0.887992303075714\n"
     ]
    }
   ],
   "source": [
    "# Аналогично сделаем с другими фреймами\n",
    "features_train_2, features_valid_2, target_train_2, target_valid_2 = test_split(df2, 'product')\n",
    "model.fit(features_train_2, target_train_2)\n",
    "predicted_target_2 = model.predict(features_valid_2)\n",
    "print('RMSE -', mean_squared_error(target_valid_2, predicted_target_2)**0.5)\n",
    "\n",
    "features_train_2s, features_valid_2s, target_train_2s, target_valid_2s = test_split_scaled(\n",
    "                                                                        df2, ['f0', 'f1', 'f2'], 'product')\n",
    "model.fit(features_train_2s, target_train_2s)\n",
    "predicted_target_2s = model.predict(features_valid_2s)\n",
    "print('RMSE -', mean_squared_error(target_valid_2s, predicted_target_2s)**0.5)"
   ]
  },
  {
   "cell_type": "code",
   "execution_count": 28,
   "metadata": {},
   "outputs": [
    {
     "name": "stdout",
     "output_type": "stream",
     "text": [
      "RMSE - 40.12893608416936\n",
      "RMSE - 40.12893608416936\n"
     ]
    }
   ],
   "source": [
    "#Тоже самое\n",
    "features_train_3, features_valid_3, target_train_3, target_valid_3 = test_split(df3, 'product')\n",
    "model.fit(features_train_3, target_train_3)\n",
    "predicted_target_3 = model.predict(features_valid_3)\n",
    "print('RMSE -', mean_squared_error(target_valid_3, predicted_target_3)**0.5)\n",
    "\n",
    "features_train_3s, features_valid_3s, target_train_3s, target_valid_3s = test_split_scaled(\n",
    "                                                                        df3, ['f0', 'f1', 'f2'], 'product')\n",
    "model.fit(features_train_3s, target_train_3s)\n",
    "predicted_target_3s = model.predict(features_valid_3s)\n",
    "print('RMSE -', mean_squared_error(target_valid_3s, predicted_target_3s)**0.5)"
   ]
  },
  {
   "cell_type": "markdown",
   "metadata": {},
   "source": [
    "**Вывод** Масштабирование данных не требуется. Проверим показатель RMSE при других гиперпараметрах модели."
   ]
  },
  {
   "cell_type": "code",
   "execution_count": 29,
   "metadata": {},
   "outputs": [
    {
     "name": "stdout",
     "output_type": "stream",
     "text": [
      "RMSE - 37.54514842848321\n"
     ]
    }
   ],
   "source": [
    "model = LinearRegression(normalize=True)\n",
    "model.fit(features_train_1, target_train_1)\n",
    "predicted_target_1 = model.predict(features_valid_1)\n",
    "print('RMSE -', mean_squared_error(target_valid_1, predicted_target_1)**0.5)"
   ]
  },
  {
   "cell_type": "code",
   "execution_count": 30,
   "metadata": {},
   "outputs": [
    {
     "name": "stdout",
     "output_type": "stream",
     "text": [
      "RMSE - 61.066109699807846\n"
     ]
    }
   ],
   "source": [
    "model = LinearRegression(fit_intercept=False)\n",
    "model.fit(features_train_1, target_train_1)\n",
    "predicted_target_1 = model.predict(features_valid_1)\n",
    "print('RMSE -', mean_squared_error(target_valid_1, predicted_target_1)**0.5)"
   ]
  },
  {
   "cell_type": "markdown",
   "metadata": {},
   "source": [
    "https://overcoder.net/q/2243360/%D1%87%D1%82%D0%BE-%D0%B8%D0%BC%D0%B5%D0%BD%D0%BD%D0%BE-%D0%B4%D0%B5%D0%BB%D0%B0%D0%B5%D1%82-%D0%BC%D0%B5%D1%82%D0%BE%D0%B4-fitintercept-%D0%B2-%D0%BC%D0%B5%D1%82%D0%BE%D0%B4%D0%B5-linearregression-%D0%B2-sklearn"
   ]
  },
  {
   "cell_type": "markdown",
   "metadata": {},
   "source": [
    "**Вывод** Изменение стандартных значений гиперпараметров не улучшило модель"
   ]
  },
  {
   "cell_type": "code",
   "execution_count": 31,
   "metadata": {},
   "outputs": [],
   "source": [
    "# Произведем вывод предсказанного запаса с реальным и выведем RMSE. Для этого напишем функцию.\n",
    "model = LinearRegression()\n",
    "\n",
    "def predict(df, target_name):\n",
    "    features = df.drop([target_name] , axis=1)\n",
    "    target = df[target_name]\n",
    "    \n",
    "    features_train, features_valid, target_train, target_valid = train_test_split(\n",
    "    features, target, test_size=0.25, random_state=1515)\n",
    "    \n",
    "    model.fit(features_train, target_train)\n",
    "    predicted_target = model.predict(features_valid)\n",
    "    data = {'real_product' : target_valid,\n",
    "            'predicted_product' : predicted_target         \n",
    "    }\n",
    "    data_frame = pd.DataFrame(data, columns = ['real_product', 'predicted_product'])\n",
    "    rmse = mean_squared_error(target_valid, predicted_target)**0.5\n",
    "    mean = data_frame['predicted_product'].mean()\n",
    "    oil_sum = data_frame['predicted_product'].sum()\n",
    "    return data_frame, rmse, mean, oil_sum"
   ]
  },
  {
   "cell_type": "code",
   "execution_count": 32,
   "metadata": {},
   "outputs": [
    {
     "name": "stdout",
     "output_type": "stream",
     "text": [
      "       real_product  predicted_product\n",
      "24747     78.226811          93.674616\n",
      "84733    127.628863          80.667515\n",
      "59479     73.801784         117.701301\n",
      "74427     89.575175         102.994492\n",
      "60722     79.104354          73.142791\n",
      "RMSE - 37.54514842848321\n",
      "Средний запас запасанного сырья - 92.67301020506795\n"
     ]
    }
   ],
   "source": [
    "df1_predicted, df1_rmse, df1_predicted_mean, df1_predicted_sum = predict(df1, 'product')\n",
    "print(df1_predicted.head())\n",
    "print('RMSE -', df1_rmse)\n",
    "print('Средний запас запасанного сырья -', df1_predicted_mean)"
   ]
  },
  {
   "cell_type": "code",
   "execution_count": 33,
   "metadata": {},
   "outputs": [
    {
     "name": "stdout",
     "output_type": "stream",
     "text": [
      "       real_product  predicted_product\n",
      "24747     26.953261          27.625164\n",
      "84733     53.906522          55.590434\n",
      "59479     80.859783          82.573347\n",
      "74427    107.813044         110.005588\n",
      "60722    107.813044         109.637297\n",
      "RMSE - 0.8879923030757141\n",
      "Средний запас запасанного сырья - 68.40182262737245\n"
     ]
    }
   ],
   "source": [
    "df2_predicted, df2_rmse, df2_predicted_mean, df2_predicted_sum = predict(df2, 'product')\n",
    "print(df2_predicted.head())\n",
    "print('RMSE -', df2_rmse)\n",
    "print('Средний запас запасанного сырья -', df2_predicted_mean)"
   ]
  },
  {
   "cell_type": "code",
   "execution_count": 34,
   "metadata": {},
   "outputs": [
    {
     "name": "stdout",
     "output_type": "stream",
     "text": [
      "       real_product  predicted_product\n",
      "24747    125.651756         124.610388\n",
      "84733    137.961076         101.130654\n",
      "59479     39.246669          80.389548\n",
      "74427      8.503397          62.354405\n",
      "60722     80.540259         104.481677\n",
      "RMSE - 40.12893608416936\n",
      "Средний запас запасанного сырья - 95.07347680345853\n"
     ]
    }
   ],
   "source": [
    "df3_predicted, df3_rmse, df3_predicted_mean, df3_predicted_sum = predict(df3, 'product')\n",
    "print(df3_predicted.head())\n",
    "print('RMSE -', df3_rmse)\n",
    "print('Средний запас запасанного сырья -', df3_predicted_mean)"
   ]
  },
  {
   "cell_type": "code",
   "execution_count": 35,
   "metadata": {},
   "outputs": [
    {
     "name": "stdout",
     "output_type": "stream",
     "text": [
      "Суммарный предсказанный запас в позиции 0 - 2316825.255126699\n",
      "Суммарный реальный запас в позиции 0 - 2316402.9055410437\n",
      "\n",
      "Суммарный предсказанный запас в позиции 1 - 1710045.5656843113\n",
      "Суммарный реальный запас в позиции 1 - 1710383.3136954207\n",
      "\n",
      "Суммарный предсказанный запас в позиции 2 - 2376836.9200864634\n",
      "Суммарный реальный запас в позиции 2 - 2382895.492237772\n"
     ]
    }
   ],
   "source": [
    "# Оценим общий запас на регион по предсказанным данным\n",
    "print('Суммарный предсказанный запас в позиции 0 -', df1_predicted_sum)\n",
    "print('Суммарный реальный запас в позиции 0 -', df1_predicted['real_product'].sum())\n",
    "print()\n",
    "print('Суммарный предсказанный запас в позиции 1 -', df2_predicted_sum)\n",
    "print('Суммарный реальный запас в позиции 1 -', df2_predicted['real_product'].sum())\n",
    "print()\n",
    "print('Суммарный предсказанный запас в позиции 2 -', df3_predicted_sum)\n",
    "print('Суммарный реальный запас в позиции 2 -', df3_predicted['real_product'].sum())"
   ]
  },
  {
   "cell_type": "markdown",
   "metadata": {},
   "source": [
    "**Вывод**\n",
    "\n",
    "Данные предсказаний о количестве нефти по сумме примерно совпадают по сумме с предсказанными значениями. **Лучше всего модель предсказала запасы во втором фрейме (RMSE - 0.88), далее в первом и третьем соотвественно.**\n",
    "\n",
    "Возможно утеряные данные из второго фрейма сказались на модели и она достаточно сильно переобучилась.\n",
    "\n",
    "Но из-за утери данных и малого запаса в среднем не имеет смысла рассматривать второй фрейм как прибыльное месторождение.\n",
    "\n",
    "Изучим все фреймы на риски и прибыль, но в конечном итоге будем выбирать между 1 и 3 фреймом."
   ]
  },
  {
   "cell_type": "markdown",
   "metadata": {},
   "source": [
    "## Подготовка к расчёту прибыли"
   ]
  },
  {
   "cell_type": "markdown",
   "metadata": {},
   "source": [
    "Создадим переменные об экономической информации."
   ]
  },
  {
   "cell_type": "code",
   "execution_count": 36,
   "metadata": {},
   "outputs": [
    {
     "name": "stdout",
     "output_type": "stream",
     "text": [
      "10000000000\n"
     ]
    }
   ],
   "source": [
    "budget = 10*(10**9) #10 000 000 000\n",
    "print(budget)\n",
    "chosen_points = 500 #исследуем 500 точек\n",
    "best_points = 200 #200 лучших\n",
    "price_per_barrel = 450000 #за 1000 баррель"
   ]
  },
  {
   "cell_type": "markdown",
   "metadata": {},
   "source": [
    "Расчитаем безубыточную разработку сырья на 200 месторождениях. И найдем среднее количество продукта в месторождениях необходимое для этого."
   ]
  },
  {
   "cell_type": "code",
   "execution_count": 37,
   "metadata": {},
   "outputs": [
    {
     "name": "stdout",
     "output_type": "stream",
     "text": [
      "Средняя прибыль на лучшую точку - 50000000.0 тыс.руб.\n",
      "Средний объем нефти на точку - 111.11111111111111 тыс. баррелей\n",
      "Средний объем нефти на регион - 22222.222222222223 тыс. баррелей\n"
     ]
    }
   ],
   "source": [
    "average_profit_per_point = budget / best_points\n",
    "print('Средняя прибыль на лучшую точку -', average_profit_per_point, 'тыс.руб.')\n",
    "\n",
    "average_barrels_per_point = average_profit_per_point  / price_per_barrel\n",
    "print('Средний объем нефти на точку -',average_barrels_per_point, 'тыс. баррелей')\n",
    "\n",
    "average_barrels = budget / price_per_barrel\n",
    "print('Средний объем нефти на регион -',average_barrels, 'тыс. баррелей')"
   ]
  },
  {
   "cell_type": "code",
   "execution_count": 38,
   "metadata": {},
   "outputs": [
    {
     "name": "stdout",
     "output_type": "stream",
     "text": [
      "Средний запас фактичекой нефти на скважину в 1 92.50000000000001\n",
      "Средний запас фактичекой нефти на скважину в 2 68.82500000000002\n",
      "Средний запас фактичекой нефти на скважину в 3 95.00000000000004\n"
     ]
    }
   ],
   "source": [
    "# Фактические запасы\n",
    "print('Средний запас фактичекой нефти на скважину в 1', df1['product'].mean())\n",
    "print('Средний запас фактичекой нефти на скважину в 2', df2['product'].mean())\n",
    "print('Средний запас фактичекой нефти на скважину в 3', df3['product'].mean())"
   ]
  },
  {
   "cell_type": "code",
   "execution_count": 39,
   "metadata": {},
   "outputs": [
    {
     "data": {
      "image/png": "[encoded data removed]",
      "text/plain": [
       "<Figure size 864x648 with 1 Axes>"
      ]
     },
     "metadata": {
      "needs_background": "light"
     },
     "output_type": "display_data"
    }
   ],
   "source": [
    "hist(df1_predicted['predicted_product'], 200, 190, 500)"
   ]
  },
  {
   "cell_type": "code",
   "execution_count": 40,
   "metadata": {},
   "outputs": [
    {
     "data": {
      "image/png": "[encoded data removed]",
      "text/plain": [
       "<Figure size 864x648 with 1 Axes>"
      ]
     },
     "metadata": {
      "needs_background": "light"
     },
     "output_type": "display_data"
    }
   ],
   "source": [
    "hist(df2_predicted['predicted_product'], 20, 150, 5000)"
   ]
  },
  {
   "cell_type": "code",
   "execution_count": 41,
   "metadata": {},
   "outputs": [
    {
     "data": {
      "image/png": "[encoded data removed]",
      "text/plain": [
       "<Figure size 864x648 with 1 Axes>"
      ]
     },
     "metadata": {
      "needs_background": "light"
     },
     "output_type": "display_data"
    }
   ],
   "source": [
    "hist(df3_predicted['predicted_product'], 200, 190, 500)"
   ]
  },
  {
   "cell_type": "markdown",
   "metadata": {},
   "source": [
    "**Вывод**\n",
    "Анализ средних объемов на скважину для каждого региона следующий.\n",
    "- Средний запас фактичекой нефти на скважину в 1 92.50000000000001\n",
    "- Средний запас фактичекой нефти на скважину в 2 68.82500000000002\n",
    "- Средний запас фактичекой нефти на скважину в 3 95.00000000000004\n",
    "\n",
    "Изучены средние фактические запасы. Для первого и третьего - высокая вероятность окупить затраты. **Разброс значений вокруг среднего 92.5 и 95 говорит нам о том, что существует достаточно много скважин, где запасы больше необходимого среднего.**\n",
    "\n",
    "Во вторых данных мб и есть определенный смысл - значений больше 111 достаточно много и при определенной доли везения можно выбрать только лучшие в этой выборке, хотя и среднее значение 68.8."
   ]
  },
  {
   "cell_type": "markdown",
   "metadata": {},
   "source": [
    "## Расчёт прибыли и рисков "
   ]
  },
  {
   "cell_type": "code",
   "execution_count": 42,
   "metadata": {},
   "outputs": [],
   "source": [
    "# Функция для расчета прибыли на 500 разведанных точек.\n",
    "def oil_profit_calculation(target, probabilities, count):\n",
    "    probs_sorted = probabilities.sort_values(ascending=False)\n",
    "    selected = target[probs_sorted.index][:count]\n",
    "    return price_per_barrel * selected.sum() - budget"
   ]
  },
  {
   "cell_type": "code",
   "execution_count": 43,
   "metadata": {},
   "outputs": [],
   "source": [
    "# Функция для применения техники Bootstrap с 1000 выборокам\n",
    "state = np.random.RandomState(1515)\n",
    "def bootstrap_1000(target, probs):\n",
    "    values=[]\n",
    "    lost = 0\n",
    "    for i in range(1000):\n",
    "        target_sample = target.sample(replace=True, random_state=state, n=chosen_points)\n",
    "        probs_sample = probs[target_sample.index]\n",
    "        profit = oil_profit_calculation(target, probs_sample, best_points)\n",
    "        if profit < 0:\n",
    "            lost +=1\n",
    "        values.append(profit)\n",
    "    \n",
    "    values = pd.Series(values)\n",
    "    lower = values.quantile(0.025)\n",
    "    upper = values.quantile(0.975)\n",
    "    average = values.mean()\n",
    "    risk = lost / 1000\n",
    "    return average, lower, upper, risk"
   ]
  },
  {
   "cell_type": "code",
   "execution_count": 44,
   "metadata": {},
   "outputs": [
    {
     "name": "stdout",
     "output_type": "stream",
     "text": [
      "Данные по первому региону.\n",
      "Средняя прибыль по региону = 443734511.80 тыс.руб.\n",
      "95% доверительный интервал от -78431640.34 до 961105687.28 тыс.руб.\n",
      "Процент риска 4.50%\n"
     ]
    }
   ],
   "source": [
    "average_1, lower_1, upper_1, risk_1 = bootstrap_1000(df1_predicted['real_product'], \n",
    "                                                     df1_predicted['predicted_product'])\n",
    "print('Данные по первому региону.')\n",
    "print('Средняя прибыль по региону = {:.2f} тыс.руб.'.format(average_1))\n",
    "print('95% доверительный интервал от {:.2f} до {:.2f} тыс.руб.'.format(lower_1, upper_1))\n",
    "print('Процент риска {:.2%}'.format(risk_1))"
   ]
  },
  {
   "cell_type": "code",
   "execution_count": 45,
   "metadata": {},
   "outputs": [
    {
     "name": "stdout",
     "output_type": "stream",
     "text": [
      "Данные по первому региону.\n",
      "Средняя прибыль по региону = 407083574.13 тыс.руб.\n",
      "95% доверительный интервал от 4647232.66 до 812517325.55 тыс.руб.\n",
      "Процент риска 2.40%\n"
     ]
    }
   ],
   "source": [
    "average_2, lower_2, upper_2, risk_2 = bootstrap_1000(df2_predicted['real_product'], \n",
    "                                                     df2_predicted['predicted_product'])\n",
    "print('Данные по первому региону.')\n",
    "print('Средняя прибыль по региону = {:.2f} тыс.руб.'.format(average_2))\n",
    "print('95% доверительный интервал от {:.2f} до {:.2f} тыс.руб.'.format(lower_2, upper_2))\n",
    "print('Процент риска {:.2%}'.format(risk_2))"
   ]
  },
  {
   "cell_type": "code",
   "execution_count": 46,
   "metadata": {},
   "outputs": [
    {
     "name": "stdout",
     "output_type": "stream",
     "text": [
      "Данные по первому региону.\n",
      "Средняя прибыль по региону = 380211362.65 тыс.руб.\n",
      "95% доверительный интервал от -148445511.46 до 914493592.42 тыс.руб.\n",
      "Процент риска 7.70%\n"
     ]
    }
   ],
   "source": [
    "average_3, lower_3, upper_3, risk_3 = bootstrap_1000(df3_predicted['real_product'], \n",
    "                                                     df3_predicted['predicted_product'])\n",
    "print('Данные по первому региону.')\n",
    "print('Средняя прибыль по региону = {:.2f} тыс.руб.'.format(average_3))\n",
    "print('95% доверительный интервал от {:.2f} до {:.2f} тыс.руб.'.format(lower_3, upper_3))\n",
    "print('Процент риска {:.2%}'.format(risk_3))"
   ]
  },
  {
   "cell_type": "markdown",
   "metadata": {},
   "source": [
    "**Вывод**\n",
    "\n",
    "По итогу: \n",
    "\n",
    "Мы отсеиваем первый и третий регион, так как риски относительно велики (4.5% и 7.8%). Остается один единственный - второй, чей риск ниже требуемого (1.4%). `Кроме того доверительный интервал показывает, что даже при не очень удачном выборе разработка скважин окупится.`"
   ]
  },
  {
   "cell_type": "markdown",
   "metadata": {},
   "source": [
    "# Вывод\n",
    "\n",
    "1) Изучины данные. Проведена подготовка данных к моделированию, были проведены проверка на дубликаты и пропущенные значения.\n",
    "\n",
    "2) Обучена модель для каждого фрейма (региона) df1, df2, df3.\n",
    "\n",
    "3) Составлена функция расчета прибыли в регионе.\n",
    "\n",
    "4) Посчитана прибыль и риски за каждый регион и обоснован выбор региона.\n",
    "\n",
    "5) Второй регион получился одним из лучших по показателям предсказывания, хотя данные не выглядят нормально распределенными, что для меня довольно странно =)\n"
   ]
  },
  {
   "cell_type": "markdown",
   "metadata": {},
   "source": [
    "## Чек-лист готовности проекта"
   ]
  },
  {
   "cell_type": "markdown",
   "metadata": {},
   "source": [
    "Поставьте 'x' в выполненных пунктах. Далее нажмите Shift+Enter."
   ]
  },
  {
   "cell_type": "markdown",
   "metadata": {},
   "source": [
    "- [x]  Jupyter Notebook открыт\n",
    "- [x]  Весь код выполняется без ошибок\n",
    "- [x]  Ячейки с кодом расположены в порядке исполнения\n",
    "- [x]  Выполнен шаг 1: данные подготовлены\n",
    "- [x]  Выполнен шаг 2: модели обучены и проверены\n",
    "    - [x]  Данные корректно разбиты на обучающую и валидационную выборки\n",
    "    - [x]  Модели обучены, предсказания сделаны\n",
    "    - [x]  Предсказания и правильные ответы на валидационной выборке сохранены\n",
    "    - [x]  На экране напечатаны результаты\n",
    "    - [x]  Сделаны выводы\n",
    "- [x]  Выполнен шаг 3: проведена подготовка к расчёту прибыли\n",
    "    - [x]  Для всех ключевых значений созданы константы Python\n",
    "    - [x]  Посчитано минимальное среднее количество продукта в месторождениях региона, достаточное для разработки\n",
    "    - [x]  По предыдущему пункту сделаны выводы\n",
    "    - [x]  Написана функция расчёта прибыли\n",
    "- [x]  Выполнен шаг 4: посчитаны риски и прибыль\n",
    "    - [x]  Проведена процедура *Bootstrap*\n",
    "    - [x]  Все параметры бутстрепа соответствуют условию\n",
    "    - [x]  Найдены все нужные величины\n",
    "    - [x]  Предложен регион для разработки месторождения\n",
    "    - [x]  Выбор региона обоснован"
   ]
  }
 ],
 "metadata": {
  "ExecuteTimeLog": [
   {
    "duration": 51,
    "start_time": "2022-04-14T20:12:51.712Z"
   },
   {
    "duration": 1673,
    "start_time": "2022-04-14T20:12:55.722Z"
   },
   {
    "duration": 384,
    "start_time": "2022-04-14T20:12:57.398Z"
   },
   {
    "duration": 15,
    "start_time": "2022-04-14T20:13:26.958Z"
   },
   {
    "duration": 9,
    "start_time": "2022-04-14T20:13:35.769Z"
   },
   {
    "duration": 10,
    "start_time": "2022-04-14T20:13:41.288Z"
   },
   {
    "duration": 10,
    "start_time": "2022-04-14T20:13:48.688Z"
   },
   {
    "duration": 19,
    "start_time": "2022-04-14T20:19:27.783Z"
   },
   {
    "duration": 18,
    "start_time": "2022-04-14T20:19:36.862Z"
   },
   {
    "duration": 17,
    "start_time": "2022-04-14T20:19:59.420Z"
   },
   {
    "duration": 18,
    "start_time": "2022-04-14T20:20:01.054Z"
   },
   {
    "duration": 174,
    "start_time": "2022-04-14T20:21:00.447Z"
   },
   {
    "duration": 75,
    "start_time": "2022-04-14T20:21:04.554Z"
   },
   {
    "duration": 19,
    "start_time": "2022-04-14T20:21:30.981Z"
   },
   {
    "duration": 24,
    "start_time": "2022-04-14T20:21:50.991Z"
   },
   {
    "duration": 23,
    "start_time": "2022-04-14T20:21:55.158Z"
   },
   {
    "duration": 14,
    "start_time": "2022-04-14T20:22:03.380Z"
   },
   {
    "duration": 17,
    "start_time": "2022-04-14T20:22:12.288Z"
   },
   {
    "duration": 23,
    "start_time": "2022-04-14T20:24:20.107Z"
   },
   {
    "duration": 11,
    "start_time": "2022-04-14T20:24:28.839Z"
   },
   {
    "duration": 887,
    "start_time": "2022-04-14T20:24:36.856Z"
   },
   {
    "duration": 1039,
    "start_time": "2022-04-14T20:24:44.873Z"
   },
   {
    "duration": 20,
    "start_time": "2022-04-14T20:24:50.007Z"
   },
   {
    "duration": 23,
    "start_time": "2022-04-14T20:25:55.793Z"
   },
   {
    "duration": 3,
    "start_time": "2022-04-14T20:29:05.177Z"
   },
   {
    "duration": 38,
    "start_time": "2022-04-14T20:29:25.356Z"
   },
   {
    "duration": 10,
    "start_time": "2022-04-14T20:34:17.969Z"
   },
   {
    "duration": 50,
    "start_time": "2022-04-14T20:35:12.268Z"
   },
   {
    "duration": 48,
    "start_time": "2022-04-14T20:35:38.419Z"
   },
   {
    "duration": 46,
    "start_time": "2022-04-14T20:35:40.420Z"
   },
   {
    "duration": 43,
    "start_time": "2022-04-14T20:37:32.927Z"
   },
   {
    "duration": 40,
    "start_time": "2022-04-14T20:37:33.282Z"
   },
   {
    "duration": 39,
    "start_time": "2022-04-14T20:37:33.858Z"
   },
   {
    "duration": 11,
    "start_time": "2022-04-14T20:39:27.244Z"
   },
   {
    "duration": 12,
    "start_time": "2022-04-14T20:39:45.848Z"
   },
   {
    "duration": 5,
    "start_time": "2022-04-14T20:41:23.075Z"
   },
   {
    "duration": 9,
    "start_time": "2022-04-14T20:42:02.963Z"
   },
   {
    "duration": 454,
    "start_time": "2022-04-14T20:42:09.328Z"
   },
   {
    "duration": 518,
    "start_time": "2022-04-14T20:43:04.805Z"
   },
   {
    "duration": 435,
    "start_time": "2022-04-14T20:43:23.962Z"
   },
   {
    "duration": 172,
    "start_time": "2022-04-14T20:50:20.542Z"
   },
   {
    "duration": 10,
    "start_time": "2022-04-14T20:50:28.864Z"
   },
   {
    "duration": 11,
    "start_time": "2022-04-14T20:50:38.776Z"
   },
   {
    "duration": 5,
    "start_time": "2022-04-14T20:51:15.458Z"
   },
   {
    "duration": 3,
    "start_time": "2022-04-14T20:51:52.222Z"
   },
   {
    "duration": 3,
    "start_time": "2022-04-14T20:52:17.464Z"
   },
   {
    "duration": 5,
    "start_time": "2022-04-14T20:52:17.855Z"
   },
   {
    "duration": 7,
    "start_time": "2022-04-14T20:52:18.264Z"
   },
   {
    "duration": 5,
    "start_time": "2022-04-14T20:52:18.664Z"
   },
   {
    "duration": 9,
    "start_time": "2022-04-14T20:52:55.675Z"
   },
   {
    "duration": 226,
    "start_time": "2022-04-14T20:53:00.966Z"
   },
   {
    "duration": 232,
    "start_time": "2022-04-14T20:53:04.740Z"
   },
   {
    "duration": 218,
    "start_time": "2022-04-14T20:53:08.489Z"
   },
   {
    "duration": 192,
    "start_time": "2022-04-14T20:53:11.489Z"
   },
   {
    "duration": 232,
    "start_time": "2022-04-14T20:53:17.259Z"
   },
   {
    "duration": 240,
    "start_time": "2022-04-14T20:53:22.679Z"
   },
   {
    "duration": 348,
    "start_time": "2022-04-14T20:53:28.139Z"
   },
   {
    "duration": 249,
    "start_time": "2022-04-14T20:53:38.088Z"
   },
   {
    "duration": 259,
    "start_time": "2022-04-14T20:53:43.665Z"
   },
   {
    "duration": 182,
    "start_time": "2022-04-14T20:53:49.725Z"
   },
   {
    "duration": 210,
    "start_time": "2022-04-14T20:53:54.544Z"
   },
   {
    "duration": 221,
    "start_time": "2022-04-14T20:53:59.495Z"
   },
   {
    "duration": 224,
    "start_time": "2022-04-14T20:54:34.482Z"
   },
   {
    "duration": 11,
    "start_time": "2022-04-14T20:59:32.595Z"
   },
   {
    "duration": 1489,
    "start_time": "2022-04-14T21:00:09.801Z"
   },
   {
    "duration": 390,
    "start_time": "2022-04-14T21:00:11.292Z"
   },
   {
    "duration": 19,
    "start_time": "2022-04-14T21:00:11.684Z"
   },
   {
    "duration": 31,
    "start_time": "2022-04-14T21:00:11.706Z"
   },
   {
    "duration": 17,
    "start_time": "2022-04-14T21:00:11.740Z"
   },
   {
    "duration": 101,
    "start_time": "2022-04-14T21:00:11.759Z"
   },
   {
    "duration": 49,
    "start_time": "2022-04-14T21:00:11.862Z"
   },
   {
    "duration": 68,
    "start_time": "2022-04-14T21:00:11.913Z"
   },
   {
    "duration": 61,
    "start_time": "2022-04-14T21:00:11.983Z"
   },
   {
    "duration": 39,
    "start_time": "2022-04-14T21:00:12.046Z"
   },
   {
    "duration": 65,
    "start_time": "2022-04-14T21:00:12.086Z"
   },
   {
    "duration": 20,
    "start_time": "2022-04-14T21:00:12.153Z"
   },
   {
    "duration": 6,
    "start_time": "2022-04-14T21:00:12.175Z"
   },
   {
    "duration": 475,
    "start_time": "2022-04-14T21:00:12.183Z"
   },
   {
    "duration": 438,
    "start_time": "2022-04-14T21:00:12.660Z"
   },
   {
    "duration": 515,
    "start_time": "2022-04-14T21:00:13.100Z"
   },
   {
    "duration": 15,
    "start_time": "2022-04-14T21:00:13.618Z"
   },
   {
    "duration": 13,
    "start_time": "2022-04-14T21:00:13.635Z"
   },
   {
    "duration": 7,
    "start_time": "2022-04-14T21:00:13.649Z"
   },
   {
    "duration": 7,
    "start_time": "2022-04-14T21:00:13.658Z"
   },
   {
    "duration": 261,
    "start_time": "2022-04-14T21:00:13.667Z"
   },
   {
    "duration": 6,
    "start_time": "2022-04-14T21:00:13.931Z"
   },
   {
    "duration": 29,
    "start_time": "2022-04-14T21:00:13.938Z"
   },
   {
    "duration": 3,
    "start_time": "2022-04-14T21:01:09.164Z"
   },
   {
    "duration": 20,
    "start_time": "2022-04-14T21:01:11.053Z"
   },
   {
    "duration": 4,
    "start_time": "2022-04-14T21:02:32.602Z"
   },
   {
    "duration": 5,
    "start_time": "2022-04-14T21:03:41.128Z"
   },
   {
    "duration": 20,
    "start_time": "2022-04-14T21:03:41.469Z"
   },
   {
    "duration": 4,
    "start_time": "2022-04-14T21:05:35.930Z"
   },
   {
    "duration": 21,
    "start_time": "2022-04-14T21:06:06.439Z"
   },
   {
    "duration": 1447,
    "start_time": "2022-04-14T21:06:09.643Z"
   },
   {
    "duration": 390,
    "start_time": "2022-04-14T21:06:11.092Z"
   },
   {
    "duration": 16,
    "start_time": "2022-04-14T21:06:11.484Z"
   },
   {
    "duration": 15,
    "start_time": "2022-04-14T21:06:11.501Z"
   },
   {
    "duration": 28,
    "start_time": "2022-04-14T21:06:11.519Z"
   },
   {
    "duration": 52,
    "start_time": "2022-04-14T21:06:11.549Z"
   },
   {
    "duration": 73,
    "start_time": "2022-04-14T21:06:11.602Z"
   },
   {
    "duration": 63,
    "start_time": "2022-04-14T21:06:11.676Z"
   },
   {
    "duration": 41,
    "start_time": "2022-04-14T21:06:11.741Z"
   },
   {
    "duration": 59,
    "start_time": "2022-04-14T21:06:11.784Z"
   },
   {
    "duration": 38,
    "start_time": "2022-04-14T21:06:11.844Z"
   },
   {
    "duration": 17,
    "start_time": "2022-04-14T21:06:11.884Z"
   },
   {
    "duration": 32,
    "start_time": "2022-04-14T21:06:11.902Z"
   },
   {
    "duration": 430,
    "start_time": "2022-04-14T21:06:11.937Z"
   },
   {
    "duration": 414,
    "start_time": "2022-04-14T21:06:12.368Z"
   },
   {
    "duration": 498,
    "start_time": "2022-04-14T21:06:12.784Z"
   },
   {
    "duration": 3,
    "start_time": "2022-04-14T21:06:13.284Z"
   },
   {
    "duration": 12,
    "start_time": "2022-04-14T21:06:13.289Z"
   },
   {
    "duration": 6,
    "start_time": "2022-04-14T21:06:13.303Z"
   },
   {
    "duration": 6,
    "start_time": "2022-04-14T21:06:13.333Z"
   },
   {
    "duration": 252,
    "start_time": "2022-04-14T21:06:13.341Z"
   },
   {
    "duration": 4,
    "start_time": "2022-04-14T21:06:13.595Z"
   },
   {
    "duration": 36,
    "start_time": "2022-04-14T21:06:13.600Z"
   },
   {
    "duration": 5,
    "start_time": "2022-04-14T21:06:13.638Z"
   },
   {
    "duration": 27,
    "start_time": "2022-04-14T21:06:13.644Z"
   },
   {
    "duration": 110,
    "start_time": "2022-04-14T21:08:39.279Z"
   },
   {
    "duration": 17,
    "start_time": "2022-04-14T21:08:55.750Z"
   },
   {
    "duration": 18,
    "start_time": "2022-04-14T21:09:38.262Z"
   },
   {
    "duration": 2,
    "start_time": "2022-04-14T21:10:02.043Z"
   },
   {
    "duration": 3,
    "start_time": "2022-04-14T21:10:42.098Z"
   },
   {
    "duration": 41,
    "start_time": "2022-04-14T21:11:16.588Z"
   },
   {
    "duration": 223,
    "start_time": "2022-04-14T21:12:56.234Z"
   },
   {
    "duration": 226,
    "start_time": "2022-04-14T21:14:14.633Z"
   },
   {
    "duration": 15,
    "start_time": "2022-04-14T21:15:44.641Z"
   },
   {
    "duration": 14,
    "start_time": "2022-04-14T21:16:07.632Z"
   },
   {
    "duration": 2,
    "start_time": "2022-04-14T21:19:48.242Z"
   },
   {
    "duration": 5,
    "start_time": "2022-04-14T21:20:23.061Z"
   },
   {
    "duration": 217,
    "start_time": "2022-04-14T21:22:37.218Z"
   },
   {
    "duration": 81,
    "start_time": "2022-04-14T21:22:48.058Z"
   },
   {
    "duration": 36,
    "start_time": "2022-04-14T21:23:14.501Z"
   },
   {
    "duration": 72,
    "start_time": "2022-04-14T21:23:35.365Z"
   },
   {
    "duration": 9,
    "start_time": "2022-04-14T21:24:58.517Z"
   },
   {
    "duration": 3,
    "start_time": "2022-04-14T21:31:05.457Z"
   },
   {
    "duration": 3,
    "start_time": "2022-04-14T21:31:13.540Z"
   },
   {
    "duration": 4,
    "start_time": "2022-04-14T21:31:40.053Z"
   },
   {
    "duration": 4,
    "start_time": "2022-04-14T21:31:58.238Z"
   },
   {
    "duration": 5,
    "start_time": "2022-04-14T21:33:01.030Z"
   },
   {
    "duration": 3,
    "start_time": "2022-04-14T21:33:58.950Z"
   },
   {
    "duration": 3,
    "start_time": "2022-04-14T21:36:37.612Z"
   },
   {
    "duration": 5,
    "start_time": "2022-04-14T21:36:38.555Z"
   },
   {
    "duration": 4,
    "start_time": "2022-04-14T21:37:40.659Z"
   },
   {
    "duration": 5,
    "start_time": "2022-04-14T21:37:41.559Z"
   },
   {
    "duration": 10,
    "start_time": "2022-04-14T21:38:32.557Z"
   },
   {
    "duration": 6,
    "start_time": "2022-04-14T21:38:58.221Z"
   },
   {
    "duration": 4,
    "start_time": "2022-04-14T21:39:53.662Z"
   },
   {
    "duration": 404,
    "start_time": "2022-04-14T21:40:32.598Z"
   },
   {
    "duration": 195,
    "start_time": "2022-04-14T21:41:52.248Z"
   },
   {
    "duration": 10,
    "start_time": "2022-04-14T21:42:02.095Z"
   },
   {
    "duration": 409,
    "start_time": "2022-04-14T21:42:09.833Z"
   },
   {
    "duration": 331,
    "start_time": "2022-04-14T21:42:35.819Z"
   },
   {
    "duration": 241,
    "start_time": "2022-04-14T21:42:43.745Z"
   },
   {
    "duration": 243,
    "start_time": "2022-04-14T21:42:52.256Z"
   },
   {
    "duration": 211,
    "start_time": "2022-04-14T21:43:02.065Z"
   },
   {
    "duration": 204,
    "start_time": "2022-04-14T21:43:34.816Z"
   },
   {
    "duration": 225,
    "start_time": "2022-04-14T21:43:46.526Z"
   },
   {
    "duration": 3,
    "start_time": "2022-04-14T21:47:03.730Z"
   },
   {
    "duration": 5,
    "start_time": "2022-04-14T21:48:11.974Z"
   },
   {
    "duration": 5,
    "start_time": "2022-04-14T21:49:13.210Z"
   },
   {
    "duration": 955,
    "start_time": "2022-04-14T21:49:50.588Z"
   },
   {
    "duration": 5,
    "start_time": "2022-04-14T21:50:15.807Z"
   },
   {
    "duration": 938,
    "start_time": "2022-04-14T21:50:16.549Z"
   },
   {
    "duration": 5,
    "start_time": "2022-04-14T21:50:23.079Z"
   },
   {
    "duration": 946,
    "start_time": "2022-04-14T21:51:34.919Z"
   },
   {
    "duration": 1399,
    "start_time": "2022-04-14T21:51:40.258Z"
   },
   {
    "duration": 386,
    "start_time": "2022-04-14T21:51:41.659Z"
   },
   {
    "duration": 17,
    "start_time": "2022-04-14T21:51:42.046Z"
   },
   {
    "duration": 14,
    "start_time": "2022-04-14T21:51:42.064Z"
   },
   {
    "duration": 15,
    "start_time": "2022-04-14T21:51:42.081Z"
   },
   {
    "duration": 84,
    "start_time": "2022-04-14T21:51:42.097Z"
   },
   {
    "duration": 64,
    "start_time": "2022-04-14T21:51:42.183Z"
   },
   {
    "duration": 49,
    "start_time": "2022-04-14T21:51:42.249Z"
   },
   {
    "duration": 61,
    "start_time": "2022-04-14T21:51:42.300Z"
   },
   {
    "duration": 38,
    "start_time": "2022-04-14T21:51:42.362Z"
   },
   {
    "duration": 62,
    "start_time": "2022-04-14T21:51:42.401Z"
   },
   {
    "duration": 17,
    "start_time": "2022-04-14T21:51:42.464Z"
   },
   {
    "duration": 5,
    "start_time": "2022-04-14T21:51:42.483Z"
   },
   {
    "duration": 439,
    "start_time": "2022-04-14T21:51:42.491Z"
   },
   {
    "duration": 419,
    "start_time": "2022-04-14T21:51:42.933Z"
   },
   {
    "duration": 499,
    "start_time": "2022-04-14T21:51:43.354Z"
   },
   {
    "duration": 3,
    "start_time": "2022-04-14T21:51:43.855Z"
   },
   {
    "duration": 8,
    "start_time": "2022-04-14T21:51:43.860Z"
   },
   {
    "duration": 6,
    "start_time": "2022-04-14T21:51:43.870Z"
   },
   {
    "duration": 5,
    "start_time": "2022-04-14T21:51:43.878Z"
   },
   {
    "duration": 274,
    "start_time": "2022-04-14T21:51:43.885Z"
   },
   {
    "duration": 4,
    "start_time": "2022-04-14T21:51:44.161Z"
   },
   {
    "duration": 37,
    "start_time": "2022-04-14T21:51:44.166Z"
   },
   {
    "duration": 4,
    "start_time": "2022-04-14T21:51:44.206Z"
   },
   {
    "duration": 38,
    "start_time": "2022-04-14T21:51:44.212Z"
   },
   {
    "duration": 225,
    "start_time": "2022-04-14T21:51:44.252Z"
   },
   {
    "duration": 381,
    "start_time": "2022-04-14T21:51:44.480Z"
   },
   {
    "duration": 391,
    "start_time": "2022-04-14T21:51:44.864Z"
   },
   {
    "duration": 180,
    "start_time": "2022-04-14T21:51:45.257Z"
   },
   {
    "duration": 200,
    "start_time": "2022-04-14T21:51:45.439Z"
   },
   {
    "duration": 93,
    "start_time": "2022-04-14T21:51:45.642Z"
   },
   {
    "duration": 197,
    "start_time": "2022-04-14T21:51:45.738Z"
   },
   {
    "duration": 201,
    "start_time": "2022-04-14T21:51:45.938Z"
   },
   {
    "duration": 193,
    "start_time": "2022-04-14T21:51:46.142Z"
   },
   {
    "duration": 97,
    "start_time": "2022-04-14T21:51:46.337Z"
   },
   {
    "duration": 8,
    "start_time": "2022-04-14T21:51:46.436Z"
   },
   {
    "duration": 10,
    "start_time": "2022-04-14T21:51:46.445Z"
   },
   {
    "duration": 8,
    "start_time": "2022-04-14T21:51:46.457Z"
   },
   {
    "duration": 460,
    "start_time": "2022-04-14T21:51:46.467Z"
   },
   {
    "duration": 206,
    "start_time": "2022-04-14T21:51:46.929Z"
   },
   {
    "duration": 412,
    "start_time": "2022-04-14T21:51:47.138Z"
   },
   {
    "duration": 4,
    "start_time": "2022-04-14T21:51:47.551Z"
   },
   {
    "duration": 6,
    "start_time": "2022-04-14T21:51:47.557Z"
   },
   {
    "duration": 1102,
    "start_time": "2022-04-14T21:51:47.564Z"
   },
   {
    "duration": 1488,
    "start_time": "2022-04-14T21:52:47.376Z"
   },
   {
    "duration": 374,
    "start_time": "2022-04-14T21:52:48.866Z"
   },
   {
    "duration": 17,
    "start_time": "2022-04-14T21:52:49.241Z"
   },
   {
    "duration": 14,
    "start_time": "2022-04-14T21:52:49.260Z"
   },
   {
    "duration": 14,
    "start_time": "2022-04-14T21:52:49.276Z"
   },
   {
    "duration": 83,
    "start_time": "2022-04-14T21:52:49.292Z"
   },
   {
    "duration": 43,
    "start_time": "2022-04-14T21:52:49.376Z"
   },
   {
    "duration": 51,
    "start_time": "2022-04-14T21:52:49.434Z"
   },
   {
    "duration": 64,
    "start_time": "2022-04-14T21:52:49.487Z"
   },
   {
    "duration": 42,
    "start_time": "2022-04-14T21:52:49.553Z"
   },
   {
    "duration": 56,
    "start_time": "2022-04-14T21:52:49.597Z"
   },
   {
    "duration": 16,
    "start_time": "2022-04-14T21:52:49.655Z"
   },
   {
    "duration": 6,
    "start_time": "2022-04-14T21:52:49.673Z"
   },
   {
    "duration": 448,
    "start_time": "2022-04-14T21:52:49.682Z"
   },
   {
    "duration": 437,
    "start_time": "2022-04-14T21:52:50.132Z"
   },
   {
    "duration": 540,
    "start_time": "2022-04-14T21:52:50.571Z"
   },
   {
    "duration": 3,
    "start_time": "2022-04-14T21:52:51.113Z"
   },
   {
    "duration": 18,
    "start_time": "2022-04-14T21:52:51.118Z"
   },
   {
    "duration": 5,
    "start_time": "2022-04-14T21:52:51.138Z"
   },
   {
    "duration": 7,
    "start_time": "2022-04-14T21:52:51.145Z"
   },
   {
    "duration": 256,
    "start_time": "2022-04-14T21:52:51.154Z"
   },
   {
    "duration": 3,
    "start_time": "2022-04-14T21:52:51.412Z"
   },
   {
    "duration": 34,
    "start_time": "2022-04-14T21:52:51.417Z"
   },
   {
    "duration": 5,
    "start_time": "2022-04-14T21:52:51.453Z"
   },
   {
    "duration": 22,
    "start_time": "2022-04-14T21:52:51.460Z"
   },
   {
    "duration": 134,
    "start_time": "2022-04-14T21:52:51.537Z"
   },
   {
    "duration": 390,
    "start_time": "2022-04-14T21:52:51.674Z"
   },
   {
    "duration": 325,
    "start_time": "2022-04-14T21:52:52.135Z"
   },
   {
    "duration": 111,
    "start_time": "2022-04-14T21:52:52.534Z"
   },
   {
    "duration": 189,
    "start_time": "2022-04-14T21:52:52.647Z"
   },
   {
    "duration": 99,
    "start_time": "2022-04-14T21:52:52.839Z"
   },
   {
    "duration": 99,
    "start_time": "2022-04-14T21:52:52.939Z"
   },
   {
    "duration": 200,
    "start_time": "2022-04-14T21:52:53.041Z"
   },
   {
    "duration": 193,
    "start_time": "2022-04-14T21:52:53.244Z"
   },
   {
    "duration": 96,
    "start_time": "2022-04-14T21:52:53.440Z"
   },
   {
    "duration": 9,
    "start_time": "2022-04-14T21:52:53.538Z"
   },
   {
    "duration": 8,
    "start_time": "2022-04-14T21:52:53.549Z"
   },
   {
    "duration": 10,
    "start_time": "2022-04-14T21:52:53.559Z"
   },
   {
    "duration": 439,
    "start_time": "2022-04-14T21:52:53.571Z"
   },
   {
    "duration": 193,
    "start_time": "2022-04-14T21:52:54.011Z"
   },
   {
    "duration": 413,
    "start_time": "2022-04-14T21:52:54.208Z"
   },
   {
    "duration": 3,
    "start_time": "2022-04-14T21:52:54.623Z"
   },
   {
    "duration": 8,
    "start_time": "2022-04-14T21:52:54.627Z"
   },
   {
    "duration": 1083,
    "start_time": "2022-04-14T21:52:54.636Z"
   },
   {
    "duration": 3,
    "start_time": "2022-04-14T21:53:39.931Z"
   },
   {
    "duration": 3,
    "start_time": "2022-04-14T21:54:04.057Z"
   },
   {
    "duration": 1442,
    "start_time": "2022-04-14T21:54:14.716Z"
   },
   {
    "duration": 389,
    "start_time": "2022-04-14T21:54:16.160Z"
   },
   {
    "duration": 18,
    "start_time": "2022-04-14T21:54:16.550Z"
   },
   {
    "duration": 16,
    "start_time": "2022-04-14T21:54:16.569Z"
   },
   {
    "duration": 15,
    "start_time": "2022-04-14T21:54:16.587Z"
   },
   {
    "duration": 78,
    "start_time": "2022-04-14T21:54:16.603Z"
   },
   {
    "duration": 63,
    "start_time": "2022-04-14T21:54:16.683Z"
   },
   {
    "duration": 51,
    "start_time": "2022-04-14T21:54:16.748Z"
   },
   {
    "duration": 64,
    "start_time": "2022-04-14T21:54:16.800Z"
   },
   {
    "duration": 38,
    "start_time": "2022-04-14T21:54:16.865Z"
   },
   {
    "duration": 58,
    "start_time": "2022-04-14T21:54:16.904Z"
   },
   {
    "duration": 17,
    "start_time": "2022-04-14T21:54:16.963Z"
   },
   {
    "duration": 6,
    "start_time": "2022-04-14T21:54:16.981Z"
   },
   {
    "duration": 447,
    "start_time": "2022-04-14T21:54:16.990Z"
   },
   {
    "duration": 412,
    "start_time": "2022-04-14T21:54:17.439Z"
   },
   {
    "duration": 492,
    "start_time": "2022-04-14T21:54:17.853Z"
   },
   {
    "duration": 3,
    "start_time": "2022-04-14T21:54:18.347Z"
   },
   {
    "duration": 9,
    "start_time": "2022-04-14T21:54:18.351Z"
   },
   {
    "duration": 6,
    "start_time": "2022-04-14T21:54:18.361Z"
   },
   {
    "duration": 6,
    "start_time": "2022-04-14T21:54:18.368Z"
   },
   {
    "duration": 261,
    "start_time": "2022-04-14T21:54:18.375Z"
   },
   {
    "duration": 4,
    "start_time": "2022-04-14T21:54:18.637Z"
   },
   {
    "duration": 22,
    "start_time": "2022-04-14T21:54:18.643Z"
   },
   {
    "duration": 5,
    "start_time": "2022-04-14T21:54:18.667Z"
   },
   {
    "duration": 68,
    "start_time": "2022-04-14T21:54:18.673Z"
   },
   {
    "duration": 127,
    "start_time": "2022-04-14T21:54:18.743Z"
   },
   {
    "duration": 389,
    "start_time": "2022-04-14T21:54:18.873Z"
   },
   {
    "duration": 325,
    "start_time": "2022-04-14T21:54:19.333Z"
   },
   {
    "duration": 179,
    "start_time": "2022-04-14T21:54:19.660Z"
   },
   {
    "duration": 201,
    "start_time": "2022-04-14T21:54:19.842Z"
   },
   {
    "duration": 91,
    "start_time": "2022-04-14T21:54:20.046Z"
   },
   {
    "duration": 196,
    "start_time": "2022-04-14T21:54:20.139Z"
   },
   {
    "duration": 198,
    "start_time": "2022-04-14T21:54:20.337Z"
   },
   {
    "duration": 196,
    "start_time": "2022-04-14T21:54:20.538Z"
   },
   {
    "duration": 99,
    "start_time": "2022-04-14T21:54:20.736Z"
   },
   {
    "duration": 7,
    "start_time": "2022-04-14T21:54:20.837Z"
   },
   {
    "duration": 7,
    "start_time": "2022-04-14T21:54:20.846Z"
   },
   {
    "duration": 8,
    "start_time": "2022-04-14T21:54:20.855Z"
   },
   {
    "duration": 421,
    "start_time": "2022-04-14T21:54:20.865Z"
   },
   {
    "duration": 195,
    "start_time": "2022-04-14T21:54:21.287Z"
   },
   {
    "duration": 403,
    "start_time": "2022-04-14T21:54:21.486Z"
   },
   {
    "duration": 3,
    "start_time": "2022-04-14T21:54:21.891Z"
   },
   {
    "duration": 23,
    "start_time": "2022-04-14T21:54:21.896Z"
   },
   {
    "duration": 1116,
    "start_time": "2022-04-14T21:54:21.921Z"
   },
   {
    "duration": 960,
    "start_time": "2022-04-14T21:54:23.039Z"
   },
   {
    "duration": 932,
    "start_time": "2022-04-14T21:54:55.361Z"
   },
   {
    "duration": 940,
    "start_time": "2022-04-14T21:55:21.349Z"
   },
   {
    "duration": 1453,
    "start_time": "2022-04-14T22:01:41.988Z"
   },
   {
    "duration": 400,
    "start_time": "2022-04-14T22:01:43.443Z"
   },
   {
    "duration": 17,
    "start_time": "2022-04-14T22:01:43.845Z"
   },
   {
    "duration": 17,
    "start_time": "2022-04-14T22:01:43.864Z"
   },
   {
    "duration": 17,
    "start_time": "2022-04-14T22:01:43.883Z"
   },
   {
    "duration": 84,
    "start_time": "2022-04-14T22:01:43.902Z"
   },
   {
    "duration": 71,
    "start_time": "2022-04-14T22:01:43.988Z"
   },
   {
    "duration": 53,
    "start_time": "2022-04-14T22:01:44.060Z"
   },
   {
    "duration": 59,
    "start_time": "2022-04-14T22:01:44.114Z"
   },
   {
    "duration": 66,
    "start_time": "2022-04-14T22:01:44.175Z"
   },
   {
    "duration": 40,
    "start_time": "2022-04-14T22:01:44.243Z"
   },
   {
    "duration": 18,
    "start_time": "2022-04-14T22:01:44.285Z"
   },
   {
    "duration": 30,
    "start_time": "2022-04-14T22:01:44.305Z"
   },
   {
    "duration": 457,
    "start_time": "2022-04-14T22:01:44.339Z"
   },
   {
    "duration": 433,
    "start_time": "2022-04-14T22:01:44.798Z"
   },
   {
    "duration": 516,
    "start_time": "2022-04-14T22:01:45.233Z"
   },
   {
    "duration": 4,
    "start_time": "2022-04-14T22:01:45.751Z"
   },
   {
    "duration": 11,
    "start_time": "2022-04-14T22:01:45.757Z"
   },
   {
    "duration": 6,
    "start_time": "2022-04-14T22:01:45.770Z"
   },
   {
    "duration": 7,
    "start_time": "2022-04-14T22:01:45.778Z"
   },
   {
    "duration": 274,
    "start_time": "2022-04-14T22:01:45.786Z"
   },
   {
    "duration": 4,
    "start_time": "2022-04-14T22:01:46.062Z"
   },
   {
    "duration": 26,
    "start_time": "2022-04-14T22:01:46.067Z"
   },
   {
    "duration": 4,
    "start_time": "2022-04-14T22:01:46.095Z"
   },
   {
    "duration": 43,
    "start_time": "2022-04-14T22:01:46.101Z"
   },
   {
    "duration": 136,
    "start_time": "2022-04-14T22:01:46.235Z"
   },
   {
    "duration": 384,
    "start_time": "2022-04-14T22:01:46.373Z"
   },
   {
    "duration": 401,
    "start_time": "2022-04-14T22:01:46.760Z"
   },
   {
    "duration": 174,
    "start_time": "2022-04-14T22:01:47.163Z"
   },
   {
    "duration": 196,
    "start_time": "2022-04-14T22:01:47.339Z"
   },
   {
    "duration": 97,
    "start_time": "2022-04-14T22:01:47.538Z"
   },
   {
    "duration": 98,
    "start_time": "2022-04-14T22:01:47.638Z"
   },
   {
    "duration": 201,
    "start_time": "2022-04-14T22:01:47.738Z"
   },
   {
    "duration": 195,
    "start_time": "2022-04-14T22:01:47.942Z"
   },
   {
    "duration": 100,
    "start_time": "2022-04-14T22:01:48.139Z"
   },
   {
    "duration": 11,
    "start_time": "2022-04-14T22:01:48.241Z"
   },
   {
    "duration": 7,
    "start_time": "2022-04-14T22:01:48.254Z"
   },
   {
    "duration": 7,
    "start_time": "2022-04-14T22:01:48.263Z"
   },
   {
    "duration": 465,
    "start_time": "2022-04-14T22:01:48.272Z"
   },
   {
    "duration": 206,
    "start_time": "2022-04-14T22:01:48.738Z"
   },
   {
    "duration": 432,
    "start_time": "2022-04-14T22:01:48.948Z"
   },
   {
    "duration": 3,
    "start_time": "2022-04-14T22:01:49.382Z"
   },
   {
    "duration": 8,
    "start_time": "2022-04-14T22:01:49.387Z"
   },
   {
    "duration": 1143,
    "start_time": "2022-04-14T22:01:49.397Z"
   },
   {
    "duration": 986,
    "start_time": "2022-04-14T22:01:50.542Z"
   },
   {
    "duration": 1001,
    "start_time": "2022-04-14T22:01:51.533Z"
   },
   {
    "duration": 173,
    "start_time": "2022-04-15T08:43:00.039Z"
   },
   {
    "duration": 1609,
    "start_time": "2022-04-15T08:43:09.404Z"
   },
   {
    "duration": 299,
    "start_time": "2022-04-15T08:43:11.015Z"
   },
   {
    "duration": 17,
    "start_time": "2022-04-15T08:43:11.316Z"
   },
   {
    "duration": 18,
    "start_time": "2022-04-15T08:43:11.336Z"
   },
   {
    "duration": 12,
    "start_time": "2022-04-15T08:43:11.356Z"
   },
   {
    "duration": 67,
    "start_time": "2022-04-15T08:43:11.369Z"
   },
   {
    "duration": 39,
    "start_time": "2022-04-15T08:43:11.437Z"
   },
   {
    "duration": 56,
    "start_time": "2022-04-15T08:43:11.478Z"
   },
   {
    "duration": 37,
    "start_time": "2022-04-15T08:43:11.537Z"
   },
   {
    "duration": 29,
    "start_time": "2022-04-15T08:43:11.577Z"
   },
   {
    "duration": 31,
    "start_time": "2022-04-15T08:43:11.629Z"
   },
   {
    "duration": 12,
    "start_time": "2022-04-15T08:43:11.662Z"
   },
   {
    "duration": 40,
    "start_time": "2022-04-15T08:43:11.675Z"
   },
   {
    "duration": 393,
    "start_time": "2022-04-15T08:43:11.716Z"
   },
   {
    "duration": 517,
    "start_time": "2022-04-15T08:43:12.111Z"
   },
   {
    "duration": 424,
    "start_time": "2022-04-15T08:43:12.629Z"
   },
   {
    "duration": 3,
    "start_time": "2022-04-15T08:43:13.055Z"
   },
   {
    "duration": 9,
    "start_time": "2022-04-15T08:43:13.060Z"
   },
   {
    "duration": 6,
    "start_time": "2022-04-15T08:43:13.070Z"
   },
   {
    "duration": 5,
    "start_time": "2022-04-15T08:43:13.077Z"
   },
   {
    "duration": 233,
    "start_time": "2022-04-15T08:43:13.083Z"
   },
   {
    "duration": 8,
    "start_time": "2022-04-15T08:43:13.317Z"
   },
   {
    "duration": 30,
    "start_time": "2022-04-15T08:43:13.326Z"
   },
   {
    "duration": 4,
    "start_time": "2022-04-15T08:43:13.358Z"
   },
   {
    "duration": 65,
    "start_time": "2022-04-15T08:43:13.363Z"
   },
   {
    "duration": 118,
    "start_time": "2022-04-15T08:43:13.429Z"
   },
   {
    "duration": 226,
    "start_time": "2022-04-15T08:43:13.624Z"
   },
   {
    "duration": 293,
    "start_time": "2022-04-15T08:43:13.854Z"
   },
   {
    "duration": 181,
    "start_time": "2022-04-15T08:43:14.149Z"
   },
   {
    "duration": 107,
    "start_time": "2022-04-15T08:43:14.332Z"
   },
   {
    "duration": 200,
    "start_time": "2022-04-15T08:43:14.441Z"
   },
   {
    "duration": 30,
    "start_time": "2022-04-15T08:43:14.642Z"
   },
   {
    "duration": 180,
    "start_time": "2022-04-15T08:43:14.673Z"
   },
   {
    "duration": 195,
    "start_time": "2022-04-15T08:43:14.854Z"
   },
   {
    "duration": 189,
    "start_time": "2022-04-15T08:43:15.051Z"
   },
   {
    "duration": 4,
    "start_time": "2022-04-15T08:43:15.241Z"
   },
   {
    "duration": 6,
    "start_time": "2022-04-15T08:43:15.246Z"
   },
   {
    "duration": 6,
    "start_time": "2022-04-15T08:43:15.253Z"
   },
   {
    "duration": 344,
    "start_time": "2022-04-15T08:43:15.260Z"
   },
   {
    "duration": 169,
    "start_time": "2022-04-15T08:43:15.605Z"
   },
   {
    "duration": 350,
    "start_time": "2022-04-15T08:43:15.775Z"
   },
   {
    "duration": 3,
    "start_time": "2022-04-15T08:43:16.127Z"
   },
   {
    "duration": 16,
    "start_time": "2022-04-15T08:43:16.132Z"
   },
   {
    "duration": 1118,
    "start_time": "2022-04-15T08:43:16.150Z"
   },
   {
    "duration": 827,
    "start_time": "2022-04-15T08:43:17.269Z"
   },
   {
    "duration": 791,
    "start_time": "2022-04-15T08:43:18.097Z"
   }
  ],
  "kernelspec": {
   "display_name": "Python 3",
   "language": "python",
   "name": "python3"
  },
  "language_info": {
   "codemirror_mode": {
    "name": "ipython",
    "version": 3
   },
   "file_extension": ".py",
   "mimetype": "text/x-python",
   "name": "python",
   "nbconvert_exporter": "python",
   "pygments_lexer": "ipython3",
   "version": "3.9.1"
  },
  "toc": {
   "base_numbering": 1,
   "nav_menu": {},
   "number_sections": true,
   "sideBar": true,
   "skip_h1_title": true,
   "title_cell": "Table of Contents",
   "title_sidebar": "Contents",
   "toc_cell": false,
   "toc_position": {},
   "toc_section_display": true,
   "toc_window_display": false
  }
 },
 "nbformat": 4,
 "nbformat_minor": 2
}
